{
  "nbformat": 4,
  "nbformat_minor": 0,
  "metadata": {
    "colab": {
      "provenance": [],
      "mount_file_id": "12wW7wp9g-hEA4LlORHkaFJ-YI1OdP3HY",
      "authorship_tag": "ABX9TyMv7BaSCWrAc0bSzZmn9GKo",
      "include_colab_link": true
    },
    "kernelspec": {
      "name": "python3",
      "display_name": "Python 3"
    },
    "language_info": {
      "name": "python"
    }
  },
  "cells": [
    {
      "cell_type": "markdown",
      "metadata": {
        "id": "view-in-github",
        "colab_type": "text"
      },
      "source": [
        "<a href=\"https://colab.research.google.com/github/avi78/Handwritten_digits_recognition/blob/main/AI_ML_Handwritten_digits.ipynb\" target=\"_parent\"><img src=\"https://colab.research.google.com/assets/colab-badge.svg\" alt=\"Open In Colab\"/></a>"
      ]
    },
    {
      "cell_type": "code",
      "execution_count": 27,
      "metadata": {
        "id": "dbnEjXvQbawD"
      },
      "outputs": [],
      "source": [
        "# Import pytorch\n",
        "import torch\n",
        "\n",
        "#  Adding Torch functionalities so that it can be used for building CNN Model\n",
        "import torch.optim as optim\n",
        "import torch.nn as nn\n",
        "import torch.nn.functional as F\n",
        "\n",
        "import torch.utils.data as data_utils"
      ]
    },
    {
      "cell_type": "code",
      "source": [
        "import pandas as pd\n",
        "import numpy as np\n",
        "\n",
        "import matplotlib.pyplot as plt\n",
        "\n",
        "from sklearn.model_selection import train_test_split"
      ],
      "metadata": {
        "id": "vJEf2myAbps8"
      },
      "execution_count": 28,
      "outputs": []
    },
    {
      "cell_type": "code",
      "source": [
        "import torch\n",
        "\n",
        "# Check if CUDA is available\n",
        "if torch.cuda.is_available():\n",
        "    device = torch.device(\"cuda\")\n",
        "    print(\"GPU is available. Using the GPU...\")\n",
        "else:\n",
        "    device = torch.device(\"cpu\")\n",
        "    print(\"GPU is not available. Using the CPU...\")"
      ],
      "metadata": {
        "colab": {
          "base_uri": "https://localhost:8080/",
          "height": 0
        },
        "id": "bVMYeuKabuh7",
        "outputId": "71f0da24-9b96-45a0-87a6-e82d342807a4"
      },
      "execution_count": 29,
      "outputs": [
        {
          "output_type": "stream",
          "name": "stdout",
          "text": [
            "GPU is not available. Using the CPU...\n"
          ]
        }
      ]
    },
    {
      "cell_type": "code",
      "source": [
        "#Reading data into pandas dataframe.\n",
        "\n",
        "data_sets = \"/content/drive/MyDrive/TMNIST_Data.csv\"\n",
        "data = pd.read_csv(data_sets)"
      ],
      "metadata": {
        "id": "o5V6_isAcTOi"
      },
      "execution_count": 30,
      "outputs": []
    },
    {
      "cell_type": "code",
      "source": [
        "# Displaying first rows of dataset\n",
        "data.head()"
      ],
      "metadata": {
        "colab": {
          "base_uri": "https://localhost:8080/",
          "height": 236
        },
        "id": "eO_SOUkIcVTq",
        "outputId": "55d313de-6331-4d6b-8808-e3dc63dab806"
      },
      "execution_count": 31,
      "outputs": [
        {
          "output_type": "execute_result",
          "data": {
            "text/plain": [
              "                        names  labels  1  2  3  4  5  6  7  8  ...  775  776  \\\n",
              "0          GrandHotel-Regular       2  0  0  0  0  0  0  0  0  ...    0    0   \n",
              "1  EncodeSansCondensed-Medium       8  0  0  0  0  0  0  0  0  ...    0    0   \n",
              "2              Varela-Regular       4  0  0  0  0  0  0  0  0  ...    0    0   \n",
              "3              ArefRuqaa-Bold       3  0  0  0  0  0  0  0  0  ...    0    0   \n",
              "4           KulimPark-Regular       1  0  0  0  0  0  0  0  0  ...    0    0   \n",
              "\n",
              "   777  778  779  780  781  782  783  784  \n",
              "0    0    0    0    0    0    0    0    0  \n",
              "1    0    0    0    0    0    0    0    0  \n",
              "2    0    0    0    0    0    0    0    0  \n",
              "3    0    0    0    0    0    0    0    0  \n",
              "4    0    0    0    0    0    0    0    0  \n",
              "\n",
              "[5 rows x 786 columns]"
            ],
            "text/html": [
              "\n",
              "  <div id=\"df-23fe2c05-b1e1-4c64-97e6-25eb6cace161\" class=\"colab-df-container\">\n",
              "    <div>\n",
              "<style scoped>\n",
              "    .dataframe tbody tr th:only-of-type {\n",
              "        vertical-align: middle;\n",
              "    }\n",
              "\n",
              "    .dataframe tbody tr th {\n",
              "        vertical-align: top;\n",
              "    }\n",
              "\n",
              "    .dataframe thead th {\n",
              "        text-align: right;\n",
              "    }\n",
              "</style>\n",
              "<table border=\"1\" class=\"dataframe\">\n",
              "  <thead>\n",
              "    <tr style=\"text-align: right;\">\n",
              "      <th></th>\n",
              "      <th>names</th>\n",
              "      <th>labels</th>\n",
              "      <th>1</th>\n",
              "      <th>2</th>\n",
              "      <th>3</th>\n",
              "      <th>4</th>\n",
              "      <th>5</th>\n",
              "      <th>6</th>\n",
              "      <th>7</th>\n",
              "      <th>8</th>\n",
              "      <th>...</th>\n",
              "      <th>775</th>\n",
              "      <th>776</th>\n",
              "      <th>777</th>\n",
              "      <th>778</th>\n",
              "      <th>779</th>\n",
              "      <th>780</th>\n",
              "      <th>781</th>\n",
              "      <th>782</th>\n",
              "      <th>783</th>\n",
              "      <th>784</th>\n",
              "    </tr>\n",
              "  </thead>\n",
              "  <tbody>\n",
              "    <tr>\n",
              "      <th>0</th>\n",
              "      <td>GrandHotel-Regular</td>\n",
              "      <td>2</td>\n",
              "      <td>0</td>\n",
              "      <td>0</td>\n",
              "      <td>0</td>\n",
              "      <td>0</td>\n",
              "      <td>0</td>\n",
              "      <td>0</td>\n",
              "      <td>0</td>\n",
              "      <td>0</td>\n",
              "      <td>...</td>\n",
              "      <td>0</td>\n",
              "      <td>0</td>\n",
              "      <td>0</td>\n",
              "      <td>0</td>\n",
              "      <td>0</td>\n",
              "      <td>0</td>\n",
              "      <td>0</td>\n",
              "      <td>0</td>\n",
              "      <td>0</td>\n",
              "      <td>0</td>\n",
              "    </tr>\n",
              "    <tr>\n",
              "      <th>1</th>\n",
              "      <td>EncodeSansCondensed-Medium</td>\n",
              "      <td>8</td>\n",
              "      <td>0</td>\n",
              "      <td>0</td>\n",
              "      <td>0</td>\n",
              "      <td>0</td>\n",
              "      <td>0</td>\n",
              "      <td>0</td>\n",
              "      <td>0</td>\n",
              "      <td>0</td>\n",
              "      <td>...</td>\n",
              "      <td>0</td>\n",
              "      <td>0</td>\n",
              "      <td>0</td>\n",
              "      <td>0</td>\n",
              "      <td>0</td>\n",
              "      <td>0</td>\n",
              "      <td>0</td>\n",
              "      <td>0</td>\n",
              "      <td>0</td>\n",
              "      <td>0</td>\n",
              "    </tr>\n",
              "    <tr>\n",
              "      <th>2</th>\n",
              "      <td>Varela-Regular</td>\n",
              "      <td>4</td>\n",
              "      <td>0</td>\n",
              "      <td>0</td>\n",
              "      <td>0</td>\n",
              "      <td>0</td>\n",
              "      <td>0</td>\n",
              "      <td>0</td>\n",
              "      <td>0</td>\n",
              "      <td>0</td>\n",
              "      <td>...</td>\n",
              "      <td>0</td>\n",
              "      <td>0</td>\n",
              "      <td>0</td>\n",
              "      <td>0</td>\n",
              "      <td>0</td>\n",
              "      <td>0</td>\n",
              "      <td>0</td>\n",
              "      <td>0</td>\n",
              "      <td>0</td>\n",
              "      <td>0</td>\n",
              "    </tr>\n",
              "    <tr>\n",
              "      <th>3</th>\n",
              "      <td>ArefRuqaa-Bold</td>\n",
              "      <td>3</td>\n",
              "      <td>0</td>\n",
              "      <td>0</td>\n",
              "      <td>0</td>\n",
              "      <td>0</td>\n",
              "      <td>0</td>\n",
              "      <td>0</td>\n",
              "      <td>0</td>\n",
              "      <td>0</td>\n",
              "      <td>...</td>\n",
              "      <td>0</td>\n",
              "      <td>0</td>\n",
              "      <td>0</td>\n",
              "      <td>0</td>\n",
              "      <td>0</td>\n",
              "      <td>0</td>\n",
              "      <td>0</td>\n",
              "      <td>0</td>\n",
              "      <td>0</td>\n",
              "      <td>0</td>\n",
              "    </tr>\n",
              "    <tr>\n",
              "      <th>4</th>\n",
              "      <td>KulimPark-Regular</td>\n",
              "      <td>1</td>\n",
              "      <td>0</td>\n",
              "      <td>0</td>\n",
              "      <td>0</td>\n",
              "      <td>0</td>\n",
              "      <td>0</td>\n",
              "      <td>0</td>\n",
              "      <td>0</td>\n",
              "      <td>0</td>\n",
              "      <td>...</td>\n",
              "      <td>0</td>\n",
              "      <td>0</td>\n",
              "      <td>0</td>\n",
              "      <td>0</td>\n",
              "      <td>0</td>\n",
              "      <td>0</td>\n",
              "      <td>0</td>\n",
              "      <td>0</td>\n",
              "      <td>0</td>\n",
              "      <td>0</td>\n",
              "    </tr>\n",
              "  </tbody>\n",
              "</table>\n",
              "<p>5 rows × 786 columns</p>\n",
              "</div>\n",
              "    <div class=\"colab-df-buttons\">\n",
              "\n",
              "  <div class=\"colab-df-container\">\n",
              "    <button class=\"colab-df-convert\" onclick=\"convertToInteractive('df-23fe2c05-b1e1-4c64-97e6-25eb6cace161')\"\n",
              "            title=\"Convert this dataframe to an interactive table.\"\n",
              "            style=\"display:none;\">\n",
              "\n",
              "  <svg xmlns=\"http://www.w3.org/2000/svg\" height=\"24px\" viewBox=\"0 -960 960 960\">\n",
              "    <path d=\"M120-120v-720h720v720H120Zm60-500h600v-160H180v160Zm220 220h160v-160H400v160Zm0 220h160v-160H400v160ZM180-400h160v-160H180v160Zm440 0h160v-160H620v160ZM180-180h160v-160H180v160Zm440 0h160v-160H620v160Z\"/>\n",
              "  </svg>\n",
              "    </button>\n",
              "\n",
              "  <style>\n",
              "    .colab-df-container {\n",
              "      display:flex;\n",
              "      gap: 12px;\n",
              "    }\n",
              "\n",
              "    .colab-df-convert {\n",
              "      background-color: #E8F0FE;\n",
              "      border: none;\n",
              "      border-radius: 50%;\n",
              "      cursor: pointer;\n",
              "      display: none;\n",
              "      fill: #1967D2;\n",
              "      height: 32px;\n",
              "      padding: 0 0 0 0;\n",
              "      width: 32px;\n",
              "    }\n",
              "\n",
              "    .colab-df-convert:hover {\n",
              "      background-color: #E2EBFA;\n",
              "      box-shadow: 0px 1px 2px rgba(60, 64, 67, 0.3), 0px 1px 3px 1px rgba(60, 64, 67, 0.15);\n",
              "      fill: #174EA6;\n",
              "    }\n",
              "\n",
              "    .colab-df-buttons div {\n",
              "      margin-bottom: 4px;\n",
              "    }\n",
              "\n",
              "    [theme=dark] .colab-df-convert {\n",
              "      background-color: #3B4455;\n",
              "      fill: #D2E3FC;\n",
              "    }\n",
              "\n",
              "    [theme=dark] .colab-df-convert:hover {\n",
              "      background-color: #434B5C;\n",
              "      box-shadow: 0px 1px 3px 1px rgba(0, 0, 0, 0.15);\n",
              "      filter: drop-shadow(0px 1px 2px rgba(0, 0, 0, 0.3));\n",
              "      fill: #FFFFFF;\n",
              "    }\n",
              "  </style>\n",
              "\n",
              "    <script>\n",
              "      const buttonEl =\n",
              "        document.querySelector('#df-23fe2c05-b1e1-4c64-97e6-25eb6cace161 button.colab-df-convert');\n",
              "      buttonEl.style.display =\n",
              "        google.colab.kernel.accessAllowed ? 'block' : 'none';\n",
              "\n",
              "      async function convertToInteractive(key) {\n",
              "        const element = document.querySelector('#df-23fe2c05-b1e1-4c64-97e6-25eb6cace161');\n",
              "        const dataTable =\n",
              "          await google.colab.kernel.invokeFunction('convertToInteractive',\n",
              "                                                    [key], {});\n",
              "        if (!dataTable) return;\n",
              "\n",
              "        const docLinkHtml = 'Like what you see? Visit the ' +\n",
              "          '<a target=\"_blank\" href=https://colab.research.google.com/notebooks/data_table.ipynb>data table notebook</a>'\n",
              "          + ' to learn more about interactive tables.';\n",
              "        element.innerHTML = '';\n",
              "        dataTable['output_type'] = 'display_data';\n",
              "        await google.colab.output.renderOutput(dataTable, element);\n",
              "        const docLink = document.createElement('div');\n",
              "        docLink.innerHTML = docLinkHtml;\n",
              "        element.appendChild(docLink);\n",
              "      }\n",
              "    </script>\n",
              "  </div>\n",
              "\n",
              "\n",
              "<div id=\"df-61947e62-5df3-42c3-ba36-ef9683776081\">\n",
              "  <button class=\"colab-df-quickchart\" onclick=\"quickchart('df-61947e62-5df3-42c3-ba36-ef9683776081')\"\n",
              "            title=\"Suggest charts\"\n",
              "            style=\"display:none;\">\n",
              "\n",
              "<svg xmlns=\"http://www.w3.org/2000/svg\" height=\"24px\"viewBox=\"0 0 24 24\"\n",
              "     width=\"24px\">\n",
              "    <g>\n",
              "        <path d=\"M19 3H5c-1.1 0-2 .9-2 2v14c0 1.1.9 2 2 2h14c1.1 0 2-.9 2-2V5c0-1.1-.9-2-2-2zM9 17H7v-7h2v7zm4 0h-2V7h2v10zm4 0h-2v-4h2v4z\"/>\n",
              "    </g>\n",
              "</svg>\n",
              "  </button>\n",
              "\n",
              "<style>\n",
              "  .colab-df-quickchart {\n",
              "      --bg-color: #E8F0FE;\n",
              "      --fill-color: #1967D2;\n",
              "      --hover-bg-color: #E2EBFA;\n",
              "      --hover-fill-color: #174EA6;\n",
              "      --disabled-fill-color: #AAA;\n",
              "      --disabled-bg-color: #DDD;\n",
              "  }\n",
              "\n",
              "  [theme=dark] .colab-df-quickchart {\n",
              "      --bg-color: #3B4455;\n",
              "      --fill-color: #D2E3FC;\n",
              "      --hover-bg-color: #434B5C;\n",
              "      --hover-fill-color: #FFFFFF;\n",
              "      --disabled-bg-color: #3B4455;\n",
              "      --disabled-fill-color: #666;\n",
              "  }\n",
              "\n",
              "  .colab-df-quickchart {\n",
              "    background-color: var(--bg-color);\n",
              "    border: none;\n",
              "    border-radius: 50%;\n",
              "    cursor: pointer;\n",
              "    display: none;\n",
              "    fill: var(--fill-color);\n",
              "    height: 32px;\n",
              "    padding: 0;\n",
              "    width: 32px;\n",
              "  }\n",
              "\n",
              "  .colab-df-quickchart:hover {\n",
              "    background-color: var(--hover-bg-color);\n",
              "    box-shadow: 0 1px 2px rgba(60, 64, 67, 0.3), 0 1px 3px 1px rgba(60, 64, 67, 0.15);\n",
              "    fill: var(--button-hover-fill-color);\n",
              "  }\n",
              "\n",
              "  .colab-df-quickchart-complete:disabled,\n",
              "  .colab-df-quickchart-complete:disabled:hover {\n",
              "    background-color: var(--disabled-bg-color);\n",
              "    fill: var(--disabled-fill-color);\n",
              "    box-shadow: none;\n",
              "  }\n",
              "\n",
              "  .colab-df-spinner {\n",
              "    border: 2px solid var(--fill-color);\n",
              "    border-color: transparent;\n",
              "    border-bottom-color: var(--fill-color);\n",
              "    animation:\n",
              "      spin 1s steps(1) infinite;\n",
              "  }\n",
              "\n",
              "  @keyframes spin {\n",
              "    0% {\n",
              "      border-color: transparent;\n",
              "      border-bottom-color: var(--fill-color);\n",
              "      border-left-color: var(--fill-color);\n",
              "    }\n",
              "    20% {\n",
              "      border-color: transparent;\n",
              "      border-left-color: var(--fill-color);\n",
              "      border-top-color: var(--fill-color);\n",
              "    }\n",
              "    30% {\n",
              "      border-color: transparent;\n",
              "      border-left-color: var(--fill-color);\n",
              "      border-top-color: var(--fill-color);\n",
              "      border-right-color: var(--fill-color);\n",
              "    }\n",
              "    40% {\n",
              "      border-color: transparent;\n",
              "      border-right-color: var(--fill-color);\n",
              "      border-top-color: var(--fill-color);\n",
              "    }\n",
              "    60% {\n",
              "      border-color: transparent;\n",
              "      border-right-color: var(--fill-color);\n",
              "    }\n",
              "    80% {\n",
              "      border-color: transparent;\n",
              "      border-right-color: var(--fill-color);\n",
              "      border-bottom-color: var(--fill-color);\n",
              "    }\n",
              "    90% {\n",
              "      border-color: transparent;\n",
              "      border-bottom-color: var(--fill-color);\n",
              "    }\n",
              "  }\n",
              "</style>\n",
              "\n",
              "  <script>\n",
              "    async function quickchart(key) {\n",
              "      const quickchartButtonEl =\n",
              "        document.querySelector('#' + key + ' button');\n",
              "      quickchartButtonEl.disabled = true;  // To prevent multiple clicks.\n",
              "      quickchartButtonEl.classList.add('colab-df-spinner');\n",
              "      try {\n",
              "        const charts = await google.colab.kernel.invokeFunction(\n",
              "            'suggestCharts', [key], {});\n",
              "      } catch (error) {\n",
              "        console.error('Error during call to suggestCharts:', error);\n",
              "      }\n",
              "      quickchartButtonEl.classList.remove('colab-df-spinner');\n",
              "      quickchartButtonEl.classList.add('colab-df-quickchart-complete');\n",
              "    }\n",
              "    (() => {\n",
              "      let quickchartButtonEl =\n",
              "        document.querySelector('#df-61947e62-5df3-42c3-ba36-ef9683776081 button');\n",
              "      quickchartButtonEl.style.display =\n",
              "        google.colab.kernel.accessAllowed ? 'block' : 'none';\n",
              "    })();\n",
              "  </script>\n",
              "</div>\n",
              "\n",
              "    </div>\n",
              "  </div>\n"
            ]
          },
          "metadata": {},
          "execution_count": 31
        }
      ]
    },
    {
      "cell_type": "code",
      "source": [
        "# Determining Shape and Number of Sample in the Dataset\n",
        "\n",
        "print(f\"The Shape of the Dataframe is: {data.shape}\") #Number of Samples, Number of Pixels(Features)\n",
        "print(f\"Number of Samples in the Dataset: {data.shape[0]}\")"
      ],
      "metadata": {
        "colab": {
          "base_uri": "https://localhost:8080/",
          "height": 0
        },
        "id": "XgHNCaoAcayh",
        "outputId": "833b52c7-c1fa-4007-e21c-259dedbfa2ce"
      },
      "execution_count": 32,
      "outputs": [
        {
          "output_type": "stream",
          "name": "stdout",
          "text": [
            "The Shape of the Dataframe is: (29900, 786)\n",
            "Number of Samples in the Dataset: 29900\n"
          ]
        }
      ]
    },
    {
      "cell_type": "code",
      "source": [
        "# Number of unique character in the Dataset\n",
        "print(f\"Number of unique characters present in the Dataset: {len(data.labels.unique())}\")"
      ],
      "metadata": {
        "colab": {
          "base_uri": "https://localhost:8080/",
          "height": 0
        },
        "id": "b2lcxmJGcgBS",
        "outputId": "ffeae87b-d1df-4bd1-bd90-b537095b1ace"
      },
      "execution_count": 33,
      "outputs": [
        {
          "output_type": "stream",
          "name": "stdout",
          "text": [
            "Number of unique characters present in the Dataset: 10\n"
          ]
        }
      ]
    },
    {
      "cell_type": "code",
      "source": [
        "# Label distribution\n",
        "data.labels.value_counts()"
      ],
      "metadata": {
        "colab": {
          "base_uri": "https://localhost:8080/",
          "height": 0
        },
        "id": "jA1lTqpUcjux",
        "outputId": "6801ffca-0407-4147-94e9-3f1a71648900"
      },
      "execution_count": 34,
      "outputs": [
        {
          "output_type": "execute_result",
          "data": {
            "text/plain": [
              "2    2990\n",
              "8    2990\n",
              "4    2990\n",
              "3    2990\n",
              "1    2990\n",
              "6    2990\n",
              "5    2990\n",
              "9    2990\n",
              "7    2990\n",
              "0    2990\n",
              "Name: labels, dtype: int64"
            ]
          },
          "metadata": {},
          "execution_count": 34
        }
      ]
    },
    {
      "cell_type": "code",
      "source": [
        "#Dropping redundant coloums like names and labels from the training frames and keeping only pixel values\n",
        "X = data.drop(columns = {'names', 'labels'})/255\n",
        "X = X.values.reshape(X.shape[0], 1, 28, 28)\n",
        "y = data[['labels']].values.reshape((-1,))"
      ],
      "metadata": {
        "id": "sDwNikCUclj0"
      },
      "execution_count": 35,
      "outputs": []
    },
    {
      "cell_type": "code",
      "source": [
        "#split data into training and testing sets using the train_test_split\n",
        "X_train, X_test, y_train, y_test = train_test_split(X, y, test_size = 0.2, random_state = 42)"
      ],
      "metadata": {
        "id": "XBYjK1eDcp5o"
      },
      "execution_count": 36,
      "outputs": []
    },
    {
      "cell_type": "code",
      "source": [
        "# Convert X_train, X_test, y_train, and y_test to PyTorch tensors\n",
        "X_train = torch.from_numpy(X_train)\n",
        "X_test = torch.from_numpy(X_test)\n",
        "y_train = torch.from_numpy(y_train)\n",
        "y_test = torch.from_numpy(y_test)"
      ],
      "metadata": {
        "id": "Qs0RREnpcuTf"
      },
      "execution_count": 37,
      "outputs": []
    },
    {
      "cell_type": "code",
      "source": [
        "#printing shape\n",
        "print(X_train.shape, y_train.shape)"
      ],
      "metadata": {
        "colab": {
          "base_uri": "https://localhost:8080/",
          "height": 0
        },
        "id": "JhEHnC7Pc0vW",
        "outputId": "040b4702-0c74-40b6-bd3a-36636bd46307"
      },
      "execution_count": 38,
      "outputs": [
        {
          "output_type": "stream",
          "name": "stdout",
          "text": [
            "torch.Size([23920, 1, 28, 28]) torch.Size([23920])\n"
          ]
        }
      ]
    },
    {
      "cell_type": "code",
      "source": [
        "def visualize_image(data):\n",
        "\n",
        "    # Display the image using matplotlib's imshow() function\n",
        "    plt.imshow(data[0], cmap='gray_r')\n",
        "\n",
        "    # Turn off the axis display in the plot\n",
        "    plt.axis(\"off\")\n",
        "\n",
        "    # Show the plot with the displayed image\n",
        "    plt.show()\n",
        "\n",
        "# Call the visualize_image() function with the first image in X_train dataset\n",
        "visualize_image(X_train[1])\n",
        "visualize_image(X_train[2])"
      ],
      "metadata": {
        "colab": {
          "base_uri": "https://localhost:8080/",
          "height": 795
        },
        "id": "Ri0L8Tmwc4vf",
        "outputId": "03b8b9db-fdec-40a0-bdba-3f13127d16ca"
      },
      "execution_count": 39,
      "outputs": [
        {
          "output_type": "display_data",
          "data": {
            "text/plain": [
              "<Figure size 640x480 with 1 Axes>"
            ],
            "image/png": "[encoded data removed]"
          },
          "metadata": {}
        },
        {
          "output_type": "display_data",
          "data": {
            "text/plain": [
              "<Figure size 640x480 with 1 Axes>"
            ],
            "image/png": "[encoded data removed]"
          },
          "metadata": {}
        }
      ]
    },
    {
      "cell_type": "code",
      "source": [
        "print(type(X_train))\n",
        "print(type(y_train))"
      ],
      "metadata": {
        "colab": {
          "base_uri": "https://localhost:8080/",
          "height": 0
        },
        "id": "-sJGlgmddMx2",
        "outputId": "d41ad86d-cf5f-4db3-bc7f-98c261fc55bb"
      },
      "execution_count": 40,
      "outputs": [
        {
          "output_type": "stream",
          "name": "stdout",
          "text": [
            "<class 'torch.Tensor'>\n",
            "<class 'torch.Tensor'>\n"
          ]
        }
      ]
    },
    {
      "cell_type": "code",
      "source": [
        "# Create a training dataset from X_train and y_train\n",
        "train = data_utils.TensorDataset(X_train, y_train)\n",
        "# Create a testing dataset from X_test and y_test\n",
        "test = data_utils.TensorDataset(X_test, y_test)"
      ],
      "metadata": {
        "id": "8ONamVy7dP_H"
      },
      "execution_count": 41,
      "outputs": []
    },
    {
      "cell_type": "code",
      "source": [
        "# Create a training data loader from the train dataset\n",
        "# with a batch size of 128 and shuffling the data\n",
        "train_loader = data_utils.DataLoader(train, batch_size=128, shuffle=True)\n",
        "\n",
        "# Create a testing data loader from the test dataset\n",
        "# with a batch size of 128 and shuffling the data\n",
        "test_loader = data_utils.DataLoader(test, batch_size=128, shuffle=True)"
      ],
      "metadata": {
        "id": "EKTQ5GuodVaI"
      },
      "execution_count": 42,
      "outputs": []
    },
    {
      "cell_type": "code",
      "source": [
        "#Printing input size of an iteration of training\n",
        "for images, labels in train_loader:\n",
        "    print(images.shape, labels.shape)\n",
        "\n",
        "data_iter = iter(train_loader)\n",
        "images, labels = next(data_iter)\n",
        "print(images.shape, labels.shape)"
      ],
      "metadata": {
        "colab": {
          "base_uri": "https://localhost:8080/",
          "height": 0
        },
        "id": "g7UZjn89dr2q",
        "outputId": "069d0cee-9693-47f1-a0b5-469bd3e445c6"
      },
      "execution_count": 43,
      "outputs": [
        {
          "output_type": "stream",
          "name": "stdout",
          "text": [
            "torch.Size([128, 1, 28, 28]) torch.Size([128])\n",
            "torch.Size([128, 1, 28, 28]) torch.Size([128])\n",
            "torch.Size([128, 1, 28, 28]) torch.Size([128])\n",
            "torch.Size([128, 1, 28, 28]) torch.Size([128])\n",
            "torch.Size([128, 1, 28, 28]) torch.Size([128])\n",
            "torch.Size([128, 1, 28, 28]) torch.Size([128])\n",
            "torch.Size([128, 1, 28, 28]) torch.Size([128])\n",
            "torch.Size([128, 1, 28, 28]) torch.Size([128])\n",
            "torch.Size([128, 1, 28, 28]) torch.Size([128])\n",
            "torch.Size([128, 1, 28, 28]) torch.Size([128])\n",
            "torch.Size([128, 1, 28, 28]) torch.Size([128])\n",
            "torch.Size([128, 1, 28, 28]) torch.Size([128])\n",
            "torch.Size([128, 1, 28, 28]) torch.Size([128])\n",
            "torch.Size([128, 1, 28, 28]) torch.Size([128])\n",
            "torch.Size([128, 1, 28, 28]) torch.Size([128])\n",
            "torch.Size([128, 1, 28, 28]) torch.Size([128])\n",
            "torch.Size([128, 1, 28, 28]) torch.Size([128])\n",
            "torch.Size([128, 1, 28, 28]) torch.Size([128])\n",
            "torch.Size([128, 1, 28, 28]) torch.Size([128])\n",
            "torch.Size([128, 1, 28, 28]) torch.Size([128])\n",
            "torch.Size([128, 1, 28, 28]) torch.Size([128])\n",
            "torch.Size([128, 1, 28, 28]) torch.Size([128])\n",
            "torch.Size([128, 1, 28, 28]) torch.Size([128])\n",
            "torch.Size([128, 1, 28, 28]) torch.Size([128])\n",
            "torch.Size([128, 1, 28, 28]) torch.Size([128])\n",
            "torch.Size([128, 1, 28, 28]) torch.Size([128])\n",
            "torch.Size([128, 1, 28, 28]) torch.Size([128])\n",
            "torch.Size([128, 1, 28, 28]) torch.Size([128])\n",
            "torch.Size([128, 1, 28, 28]) torch.Size([128])\n",
            "torch.Size([128, 1, 28, 28]) torch.Size([128])\n",
            "torch.Size([128, 1, 28, 28]) torch.Size([128])\n",
            "torch.Size([128, 1, 28, 28]) torch.Size([128])\n",
            "torch.Size([128, 1, 28, 28]) torch.Size([128])\n",
            "torch.Size([128, 1, 28, 28]) torch.Size([128])\n",
            "torch.Size([128, 1, 28, 28]) torch.Size([128])\n",
            "torch.Size([128, 1, 28, 28]) torch.Size([128])\n",
            "torch.Size([128, 1, 28, 28]) torch.Size([128])\n",
            "torch.Size([128, 1, 28, 28]) torch.Size([128])\n",
            "torch.Size([128, 1, 28, 28]) torch.Size([128])\n",
            "torch.Size([128, 1, 28, 28]) torch.Size([128])\n",
            "torch.Size([128, 1, 28, 28]) torch.Size([128])\n",
            "torch.Size([128, 1, 28, 28]) torch.Size([128])\n",
            "torch.Size([128, 1, 28, 28]) torch.Size([128])\n",
            "torch.Size([128, 1, 28, 28]) torch.Size([128])\n",
            "torch.Size([128, 1, 28, 28]) torch.Size([128])\n",
            "torch.Size([128, 1, 28, 28]) torch.Size([128])\n",
            "torch.Size([128, 1, 28, 28]) torch.Size([128])\n",
            "torch.Size([128, 1, 28, 28]) torch.Size([128])\n",
            "torch.Size([128, 1, 28, 28]) torch.Size([128])\n",
            "torch.Size([128, 1, 28, 28]) torch.Size([128])\n",
            "torch.Size([128, 1, 28, 28]) torch.Size([128])\n",
            "torch.Size([128, 1, 28, 28]) torch.Size([128])\n",
            "torch.Size([128, 1, 28, 28]) torch.Size([128])\n",
            "torch.Size([128, 1, 28, 28]) torch.Size([128])\n",
            "torch.Size([128, 1, 28, 28]) torch.Size([128])\n",
            "torch.Size([128, 1, 28, 28]) torch.Size([128])\n",
            "torch.Size([128, 1, 28, 28]) torch.Size([128])\n",
            "torch.Size([128, 1, 28, 28]) torch.Size([128])\n",
            "torch.Size([128, 1, 28, 28]) torch.Size([128])\n",
            "torch.Size([128, 1, 28, 28]) torch.Size([128])\n",
            "torch.Size([128, 1, 28, 28]) torch.Size([128])\n",
            "torch.Size([128, 1, 28, 28]) torch.Size([128])\n",
            "torch.Size([128, 1, 28, 28]) torch.Size([128])\n",
            "torch.Size([128, 1, 28, 28]) torch.Size([128])\n",
            "torch.Size([128, 1, 28, 28]) torch.Size([128])\n",
            "torch.Size([128, 1, 28, 28]) torch.Size([128])\n",
            "torch.Size([128, 1, 28, 28]) torch.Size([128])\n",
            "torch.Size([128, 1, 28, 28]) torch.Size([128])\n",
            "torch.Size([128, 1, 28, 28]) torch.Size([128])\n",
            "torch.Size([128, 1, 28, 28]) torch.Size([128])\n",
            "torch.Size([128, 1, 28, 28]) torch.Size([128])\n",
            "torch.Size([128, 1, 28, 28]) torch.Size([128])\n",
            "torch.Size([128, 1, 28, 28]) torch.Size([128])\n",
            "torch.Size([128, 1, 28, 28]) torch.Size([128])\n",
            "torch.Size([128, 1, 28, 28]) torch.Size([128])\n",
            "torch.Size([128, 1, 28, 28]) torch.Size([128])\n",
            "torch.Size([128, 1, 28, 28]) torch.Size([128])\n",
            "torch.Size([128, 1, 28, 28]) torch.Size([128])\n",
            "torch.Size([128, 1, 28, 28]) torch.Size([128])\n",
            "torch.Size([128, 1, 28, 28]) torch.Size([128])\n",
            "torch.Size([128, 1, 28, 28]) torch.Size([128])\n",
            "torch.Size([128, 1, 28, 28]) torch.Size([128])\n",
            "torch.Size([128, 1, 28, 28]) torch.Size([128])\n",
            "torch.Size([128, 1, 28, 28]) torch.Size([128])\n",
            "torch.Size([128, 1, 28, 28]) torch.Size([128])\n",
            "torch.Size([128, 1, 28, 28]) torch.Size([128])\n",
            "torch.Size([128, 1, 28, 28]) torch.Size([128])\n",
            "torch.Size([128, 1, 28, 28]) torch.Size([128])\n",
            "torch.Size([128, 1, 28, 28]) torch.Size([128])\n",
            "torch.Size([128, 1, 28, 28]) torch.Size([128])\n",
            "torch.Size([128, 1, 28, 28]) torch.Size([128])\n",
            "torch.Size([128, 1, 28, 28]) torch.Size([128])\n",
            "torch.Size([128, 1, 28, 28]) torch.Size([128])\n",
            "torch.Size([128, 1, 28, 28]) torch.Size([128])\n",
            "torch.Size([128, 1, 28, 28]) torch.Size([128])\n",
            "torch.Size([128, 1, 28, 28]) torch.Size([128])\n",
            "torch.Size([128, 1, 28, 28]) torch.Size([128])\n",
            "torch.Size([128, 1, 28, 28]) torch.Size([128])\n",
            "torch.Size([128, 1, 28, 28]) torch.Size([128])\n",
            "torch.Size([128, 1, 28, 28]) torch.Size([128])\n",
            "torch.Size([128, 1, 28, 28]) torch.Size([128])\n",
            "torch.Size([128, 1, 28, 28]) torch.Size([128])\n",
            "torch.Size([128, 1, 28, 28]) torch.Size([128])\n",
            "torch.Size([128, 1, 28, 28]) torch.Size([128])\n",
            "torch.Size([128, 1, 28, 28]) torch.Size([128])\n",
            "torch.Size([128, 1, 28, 28]) torch.Size([128])\n",
            "torch.Size([128, 1, 28, 28]) torch.Size([128])\n",
            "torch.Size([128, 1, 28, 28]) torch.Size([128])\n",
            "torch.Size([128, 1, 28, 28]) torch.Size([128])\n",
            "torch.Size([128, 1, 28, 28]) torch.Size([128])\n",
            "torch.Size([128, 1, 28, 28]) torch.Size([128])\n",
            "torch.Size([128, 1, 28, 28]) torch.Size([128])\n",
            "torch.Size([128, 1, 28, 28]) torch.Size([128])\n",
            "torch.Size([128, 1, 28, 28]) torch.Size([128])\n",
            "torch.Size([128, 1, 28, 28]) torch.Size([128])\n",
            "torch.Size([128, 1, 28, 28]) torch.Size([128])\n",
            "torch.Size([128, 1, 28, 28]) torch.Size([128])\n",
            "torch.Size([128, 1, 28, 28]) torch.Size([128])\n",
            "torch.Size([128, 1, 28, 28]) torch.Size([128])\n",
            "torch.Size([128, 1, 28, 28]) torch.Size([128])\n",
            "torch.Size([128, 1, 28, 28]) torch.Size([128])\n",
            "torch.Size([128, 1, 28, 28]) torch.Size([128])\n",
            "torch.Size([128, 1, 28, 28]) torch.Size([128])\n",
            "torch.Size([128, 1, 28, 28]) torch.Size([128])\n",
            "torch.Size([128, 1, 28, 28]) torch.Size([128])\n",
            "torch.Size([128, 1, 28, 28]) torch.Size([128])\n",
            "torch.Size([128, 1, 28, 28]) torch.Size([128])\n",
            "torch.Size([128, 1, 28, 28]) torch.Size([128])\n",
            "torch.Size([128, 1, 28, 28]) torch.Size([128])\n",
            "torch.Size([128, 1, 28, 28]) torch.Size([128])\n",
            "torch.Size([128, 1, 28, 28]) torch.Size([128])\n",
            "torch.Size([128, 1, 28, 28]) torch.Size([128])\n",
            "torch.Size([128, 1, 28, 28]) torch.Size([128])\n",
            "torch.Size([128, 1, 28, 28]) torch.Size([128])\n",
            "torch.Size([128, 1, 28, 28]) torch.Size([128])\n",
            "torch.Size([128, 1, 28, 28]) torch.Size([128])\n",
            "torch.Size([128, 1, 28, 28]) torch.Size([128])\n",
            "torch.Size([128, 1, 28, 28]) torch.Size([128])\n",
            "torch.Size([128, 1, 28, 28]) torch.Size([128])\n",
            "torch.Size([128, 1, 28, 28]) torch.Size([128])\n",
            "torch.Size([128, 1, 28, 28]) torch.Size([128])\n",
            "torch.Size([128, 1, 28, 28]) torch.Size([128])\n",
            "torch.Size([128, 1, 28, 28]) torch.Size([128])\n",
            "torch.Size([128, 1, 28, 28]) torch.Size([128])\n",
            "torch.Size([128, 1, 28, 28]) torch.Size([128])\n",
            "torch.Size([128, 1, 28, 28]) torch.Size([128])\n",
            "torch.Size([128, 1, 28, 28]) torch.Size([128])\n",
            "torch.Size([128, 1, 28, 28]) torch.Size([128])\n",
            "torch.Size([128, 1, 28, 28]) torch.Size([128])\n",
            "torch.Size([128, 1, 28, 28]) torch.Size([128])\n",
            "torch.Size([128, 1, 28, 28]) torch.Size([128])\n",
            "torch.Size([128, 1, 28, 28]) torch.Size([128])\n",
            "torch.Size([128, 1, 28, 28]) torch.Size([128])\n",
            "torch.Size([128, 1, 28, 28]) torch.Size([128])\n",
            "torch.Size([128, 1, 28, 28]) torch.Size([128])\n",
            "torch.Size([128, 1, 28, 28]) torch.Size([128])\n",
            "torch.Size([128, 1, 28, 28]) torch.Size([128])\n",
            "torch.Size([128, 1, 28, 28]) torch.Size([128])\n",
            "torch.Size([128, 1, 28, 28]) torch.Size([128])\n",
            "torch.Size([128, 1, 28, 28]) torch.Size([128])\n",
            "torch.Size([128, 1, 28, 28]) torch.Size([128])\n",
            "torch.Size([128, 1, 28, 28]) torch.Size([128])\n",
            "torch.Size([128, 1, 28, 28]) torch.Size([128])\n",
            "torch.Size([128, 1, 28, 28]) torch.Size([128])\n",
            "torch.Size([128, 1, 28, 28]) torch.Size([128])\n",
            "torch.Size([128, 1, 28, 28]) torch.Size([128])\n",
            "torch.Size([128, 1, 28, 28]) torch.Size([128])\n",
            "torch.Size([128, 1, 28, 28]) torch.Size([128])\n",
            "torch.Size([128, 1, 28, 28]) torch.Size([128])\n",
            "torch.Size([128, 1, 28, 28]) torch.Size([128])\n",
            "torch.Size([128, 1, 28, 28]) torch.Size([128])\n",
            "torch.Size([128, 1, 28, 28]) torch.Size([128])\n",
            "torch.Size([128, 1, 28, 28]) torch.Size([128])\n",
            "torch.Size([128, 1, 28, 28]) torch.Size([128])\n",
            "torch.Size([128, 1, 28, 28]) torch.Size([128])\n",
            "torch.Size([128, 1, 28, 28]) torch.Size([128])\n",
            "torch.Size([128, 1, 28, 28]) torch.Size([128])\n",
            "torch.Size([128, 1, 28, 28]) torch.Size([128])\n",
            "torch.Size([128, 1, 28, 28]) torch.Size([128])\n",
            "torch.Size([128, 1, 28, 28]) torch.Size([128])\n",
            "torch.Size([128, 1, 28, 28]) torch.Size([128])\n",
            "torch.Size([128, 1, 28, 28]) torch.Size([128])\n",
            "torch.Size([128, 1, 28, 28]) torch.Size([128])\n",
            "torch.Size([128, 1, 28, 28]) torch.Size([128])\n",
            "torch.Size([128, 1, 28, 28]) torch.Size([128])\n",
            "torch.Size([128, 1, 28, 28]) torch.Size([128])\n",
            "torch.Size([112, 1, 28, 28]) torch.Size([112])\n",
            "torch.Size([128, 1, 28, 28]) torch.Size([128])\n"
          ]
        }
      ]
    },
    {
      "cell_type": "code",
      "source": [
        "# Checking the size of the batch and labels from the training data loader\n",
        "for images, labels in train_loader:\n",
        "    print(\"Batch size (images):\", images.shape)\n",
        "    print(\"Batch size (labels):\", labels.shape)\n",
        "    break  # After printing the first batch, we break out of the loop\n",
        "\n",
        "# Alternatively, we can directly fetch one batch from the data loader\n",
        "data_iter = iter(train_loader)\n",
        "images, labels = next(data_iter)\n",
        "print(\"Directly fetched batch - images:\", images.shape)\n",
        "print(\"Directly fetched batch - labels:\", labels.shape)"
      ],
      "metadata": {
        "colab": {
          "base_uri": "https://localhost:8080/",
          "height": 0
        },
        "id": "xkeGVb0Nd4Gr",
        "outputId": "efe6cb74-717c-4539-82d9-b023264d2255"
      },
      "execution_count": 44,
      "outputs": [
        {
          "output_type": "stream",
          "name": "stdout",
          "text": [
            "Batch size (images): torch.Size([128, 1, 28, 28])\n",
            "Batch size (labels): torch.Size([128])\n",
            "Directly fetched batch - images: torch.Size([128, 1, 28, 28])\n",
            "Directly fetched batch - labels: torch.Size([128])\n"
          ]
        }
      ]
    },
    {
      "cell_type": "code",
      "source": [
        "class Net(nn.Module):\n",
        "    def __init__(self):\n",
        "        super(Net, self).__init__()\n",
        "        self.conv1 = nn.Conv2d(1, 32, 3)     # First convolutional layer with input channels=1, output channels=32, and kernel size=3x3\n",
        "        self.conv2 = nn.Conv2d(32, 64, 3)    # Second convolutional layer with input channels=32, output channels=64, and kernel size=3x3\n",
        "        self.pool = nn.MaxPool2d(2, 2)       # Max pooling layer with kernel size=2x2 and stride=2\n",
        "        self.fc1 = nn.Linear(64 * 12 * 12, 128)  # Fully connected layer with input size of 64x12x12 (output from previous layers) and output size of 128\n",
        "        self.fc2 = nn.Linear(128, 10)        # Fully connected layer with input size of 128 and output size of 10 (for 10 classes)\n",
        "\n",
        "    def forward(self, x):\n",
        "        x = F.relu(self.conv1(x))            # Apply ReLU activation to the output of the first convolutional layer\n",
        "        x = self.pool(F.relu(self.conv2(x))) # Apply ReLU activation to the output of the second convolutional layer, then perform max pooling\n",
        "        x = x.view(-1, 64 * 12 * 12)         # Flatten the tensor to a 1D vector\n",
        "        x = F.relu(self.fc1(x))              # Apply ReLU activation to the output of the first fully connected layer\n",
        "        x = self.fc2(x)                      # Output from the second fully connected layer (logits)\n",
        "        return x\n",
        "\n",
        "net = Net()                               # Create an instance of the neural network model\n",
        "net.to(device)                           # Move the model to the specified device (e.g., GPU or CPU)\n"
      ],
      "metadata": {
        "colab": {
          "base_uri": "https://localhost:8080/",
          "height": 0
        },
        "id": "ea1dwGLld7Y8",
        "outputId": "ac8b8273-26e1-4f0d-f34a-7d5690b09fef"
      },
      "execution_count": 45,
      "outputs": [
        {
          "output_type": "execute_result",
          "data": {
            "text/plain": [
              "Net(\n",
              "  (conv1): Conv2d(1, 32, kernel_size=(3, 3), stride=(1, 1))\n",
              "  (conv2): Conv2d(32, 64, kernel_size=(3, 3), stride=(1, 1))\n",
              "  (pool): MaxPool2d(kernel_size=2, stride=2, padding=0, dilation=1, ceil_mode=False)\n",
              "  (fc1): Linear(in_features=9216, out_features=128, bias=True)\n",
              "  (fc2): Linear(in_features=128, out_features=10, bias=True)\n",
              ")"
            ]
          },
          "metadata": {},
          "execution_count": 45
        }
      ]
    },
    {
      "cell_type": "code",
      "source": [
        "criterion = nn.CrossEntropyLoss()\n",
        "#optimizer = optim.SGD(net.parameters(), lr = 0.001, momentum = 0.9)\n",
        "optimizer = optim.Adam(net.parameters(), lr = 0.001)"
      ],
      "metadata": {
        "id": "dGUtf5u4iDXl"
      },
      "execution_count": 46,
      "outputs": []
    },
    {
      "cell_type": "code",
      "source": [
        "net = net.float()"
      ],
      "metadata": {
        "id": "hPW1VlLYiH5i"
      },
      "execution_count": 47,
      "outputs": []
    },
    {
      "cell_type": "code",
      "source": [
        "epoch_num = 0\n",
        "actual_loss = 0.0\n",
        "accuracy = 0.0"
      ],
      "metadata": {
        "id": "Uav8J8hGiJ93"
      },
      "execution_count": 48,
      "outputs": []
    },
    {
      "cell_type": "code",
      "source": [
        "#training model with 30 epochs\n",
        "\n",
        "num_epochs = 30\n",
        "\n",
        "# Create lists to store epoch number, loss, and accuracy for each epoch\n",
        "epoch_log = []\n",
        "loss_log = []\n",
        "accuracy_log = []\n",
        "\n",
        "for epoch in range(num_epochs):\n",
        "    print(f'Starting Epoch: {epoch + 1}...')\n",
        "\n",
        "    running_loss = 0.0   # Initialize running loss to 0 for each epoch\n",
        "\n",
        "    for i, data in enumerate(train_loader, 0):\n",
        "        inputs, labels = data\n",
        "        inputs = inputs.to(device)    # Move inputs to the specified device (e.g., GPU or CPU)\n",
        "        labels = labels.to(device)    # Move labels to the specified device\n",
        "\n",
        "        optimizer.zero_grad()        # Zero the gradients of the optimizer\n",
        "\n",
        "        outputs = net(inputs.float())   # Forward pass to get predicted outputs from the model\n",
        "        loss = criterion(outputs,labels)  # Compute the loss between predicted outputs and ground truth labels\n",
        "        loss.backward()                 # Backward pass to compute gradients\n",
        "        optimizer.step()                # Update model weights using the optimizer\n",
        "\n",
        "        running_loss += loss.item()   # Add the current batch loss to the running loss for this epoch\n",
        "        if i % 50 == 49:\n",
        "            correct = 0\n",
        "            total = 0\n",
        "\n",
        "            with torch.no_grad():\n",
        "                for data in test_loader:\n",
        "                    images, labels = data\n",
        "                    images = images.to(device)    # Move images to the specified device\n",
        "                    labels = labels.to(device)    # Move labels to the specified device\n",
        "                    outputs = net(images.float())  # Forward pass to get predicted outputs from the model\n",
        "\n",
        "                    _, predicted = torch.max(outputs.data, dim = 1)   # Get predicted labels with maximum probability\n",
        "                    total += labels.size(0)   # Update total number of images\n",
        "                    correct += (predicted == labels).sum().item()   # Update correct predictions count\n",
        "\n",
        "                accuracy = 100 * correct / total   # Calculate accuracy for this epoch\n",
        "                actual_loss = running_loss / 50   # Calculate average loss for this epoch\n",
        "                epoch_num = epoch + 1   # Get current epoch number\n",
        "                print(f'Epoch: {epoch_num}, Mini-Batches Completed: {(i + 1)}, Loss: {actual_loss:.3f}, Test Accuracy: {accuracy:.3f}%')\n",
        "\n",
        "    epoch_log.append(epoch_num)   # Append epoch number to the epoch log\n",
        "    loss_log.append(actual_loss)   # Append average loss to the loss log\n",
        "    accuracy_log.append(accuracy)   # Append accuracy to the accuracy log\n",
        "\n",
        "\n",
        "print('Training Completed.')\n"
      ],
      "metadata": {
        "colab": {
          "base_uri": "https://localhost:8080/",
          "height": 0
        },
        "id": "WmmqKQk4iLsY",
        "outputId": "150ee6ed-fc78-4367-bea6-b837eb530b5d"
      },
      "execution_count": 49,
      "outputs": [
        {
          "output_type": "stream",
          "name": "stdout",
          "text": [
            "Starting Epoch: 1...\n",
            "Epoch: 1, Mini-Batches Completed: 50, Loss: 0.592, Test Accuracy: 94.498%\n",
            "Epoch: 1, Mini-Batches Completed: 100, Loss: 0.740, Test Accuracy: 95.886%\n",
            "Epoch: 1, Mini-Batches Completed: 150, Loss: 0.858, Test Accuracy: 97.258%\n",
            "Starting Epoch: 2...\n",
            "Epoch: 2, Mini-Batches Completed: 50, Loss: 0.061, Test Accuracy: 98.344%\n",
            "Epoch: 2, Mini-Batches Completed: 100, Loss: 0.109, Test Accuracy: 98.428%\n",
            "Epoch: 2, Mini-Batches Completed: 150, Loss: 0.168, Test Accuracy: 98.579%\n",
            "Starting Epoch: 3...\n",
            "Epoch: 3, Mini-Batches Completed: 50, Loss: 0.036, Test Accuracy: 98.294%\n",
            "Epoch: 3, Mini-Batches Completed: 100, Loss: 0.073, Test Accuracy: 98.863%\n",
            "Epoch: 3, Mini-Batches Completed: 150, Loss: 0.102, Test Accuracy: 98.395%\n",
            "Starting Epoch: 4...\n",
            "Epoch: 4, Mini-Batches Completed: 50, Loss: 0.022, Test Accuracy: 98.913%\n",
            "Epoch: 4, Mini-Batches Completed: 100, Loss: 0.047, Test Accuracy: 98.763%\n",
            "Epoch: 4, Mini-Batches Completed: 150, Loss: 0.072, Test Accuracy: 98.963%\n",
            "Starting Epoch: 5...\n",
            "Epoch: 5, Mini-Batches Completed: 50, Loss: 0.013, Test Accuracy: 98.980%\n",
            "Epoch: 5, Mini-Batches Completed: 100, Loss: 0.030, Test Accuracy: 99.047%\n",
            "Epoch: 5, Mini-Batches Completed: 150, Loss: 0.047, Test Accuracy: 98.946%\n",
            "Starting Epoch: 6...\n",
            "Epoch: 6, Mini-Batches Completed: 50, Loss: 0.015, Test Accuracy: 99.013%\n",
            "Epoch: 6, Mini-Batches Completed: 100, Loss: 0.030, Test Accuracy: 99.147%\n",
            "Epoch: 6, Mini-Batches Completed: 150, Loss: 0.040, Test Accuracy: 99.080%\n",
            "Starting Epoch: 7...\n",
            "Epoch: 7, Mini-Batches Completed: 50, Loss: 0.010, Test Accuracy: 99.097%\n",
            "Epoch: 7, Mini-Batches Completed: 100, Loss: 0.018, Test Accuracy: 99.197%\n",
            "Epoch: 7, Mini-Batches Completed: 150, Loss: 0.025, Test Accuracy: 99.080%\n",
            "Starting Epoch: 8...\n",
            "Epoch: 8, Mini-Batches Completed: 50, Loss: 0.010, Test Accuracy: 99.114%\n",
            "Epoch: 8, Mini-Batches Completed: 100, Loss: 0.020, Test Accuracy: 98.913%\n",
            "Epoch: 8, Mini-Batches Completed: 150, Loss: 0.027, Test Accuracy: 99.097%\n",
            "Starting Epoch: 9...\n",
            "Epoch: 9, Mini-Batches Completed: 50, Loss: 0.003, Test Accuracy: 99.080%\n",
            "Epoch: 9, Mini-Batches Completed: 100, Loss: 0.015, Test Accuracy: 98.913%\n",
            "Epoch: 9, Mini-Batches Completed: 150, Loss: 0.022, Test Accuracy: 99.147%\n",
            "Starting Epoch: 10...\n",
            "Epoch: 10, Mini-Batches Completed: 50, Loss: 0.006, Test Accuracy: 99.264%\n",
            "Epoch: 10, Mini-Batches Completed: 100, Loss: 0.010, Test Accuracy: 99.314%\n",
            "Epoch: 10, Mini-Batches Completed: 150, Loss: 0.016, Test Accuracy: 99.231%\n",
            "Starting Epoch: 11...\n",
            "Epoch: 11, Mini-Batches Completed: 50, Loss: 0.004, Test Accuracy: 99.264%\n",
            "Epoch: 11, Mini-Batches Completed: 100, Loss: 0.009, Test Accuracy: 99.147%\n",
            "Epoch: 11, Mini-Batches Completed: 150, Loss: 0.014, Test Accuracy: 99.130%\n",
            "Starting Epoch: 12...\n",
            "Epoch: 12, Mini-Batches Completed: 50, Loss: 0.004, Test Accuracy: 99.130%\n",
            "Epoch: 12, Mini-Batches Completed: 100, Loss: 0.010, Test Accuracy: 99.247%\n",
            "Epoch: 12, Mini-Batches Completed: 150, Loss: 0.011, Test Accuracy: 99.298%\n",
            "Starting Epoch: 13...\n",
            "Epoch: 13, Mini-Batches Completed: 50, Loss: 0.008, Test Accuracy: 99.064%\n",
            "Epoch: 13, Mini-Batches Completed: 100, Loss: 0.012, Test Accuracy: 98.896%\n",
            "Epoch: 13, Mini-Batches Completed: 150, Loss: 0.015, Test Accuracy: 99.348%\n",
            "Starting Epoch: 14...\n",
            "Epoch: 14, Mini-Batches Completed: 50, Loss: 0.003, Test Accuracy: 99.264%\n",
            "Epoch: 14, Mini-Batches Completed: 100, Loss: 0.006, Test Accuracy: 99.197%\n",
            "Epoch: 14, Mini-Batches Completed: 150, Loss: 0.009, Test Accuracy: 99.214%\n",
            "Starting Epoch: 15...\n",
            "Epoch: 15, Mini-Batches Completed: 50, Loss: 0.001, Test Accuracy: 99.247%\n",
            "Epoch: 15, Mini-Batches Completed: 100, Loss: 0.005, Test Accuracy: 99.247%\n",
            "Epoch: 15, Mini-Batches Completed: 150, Loss: 0.006, Test Accuracy: 99.281%\n",
            "Starting Epoch: 16...\n",
            "Epoch: 16, Mini-Batches Completed: 50, Loss: 0.001, Test Accuracy: 99.264%\n",
            "Epoch: 16, Mini-Batches Completed: 100, Loss: 0.003, Test Accuracy: 99.197%\n",
            "Epoch: 16, Mini-Batches Completed: 150, Loss: 0.006, Test Accuracy: 99.298%\n",
            "Starting Epoch: 17...\n",
            "Epoch: 17, Mini-Batches Completed: 50, Loss: 0.004, Test Accuracy: 99.348%\n",
            "Epoch: 17, Mini-Batches Completed: 100, Loss: 0.006, Test Accuracy: 99.147%\n",
            "Epoch: 17, Mini-Batches Completed: 150, Loss: 0.010, Test Accuracy: 99.114%\n",
            "Starting Epoch: 18...\n",
            "Epoch: 18, Mini-Batches Completed: 50, Loss: 0.007, Test Accuracy: 99.080%\n",
            "Epoch: 18, Mini-Batches Completed: 100, Loss: 0.014, Test Accuracy: 99.164%\n",
            "Epoch: 18, Mini-Batches Completed: 150, Loss: 0.020, Test Accuracy: 99.164%\n",
            "Starting Epoch: 19...\n",
            "Epoch: 19, Mini-Batches Completed: 50, Loss: 0.006, Test Accuracy: 99.247%\n",
            "Epoch: 19, Mini-Batches Completed: 100, Loss: 0.007, Test Accuracy: 99.314%\n",
            "Epoch: 19, Mini-Batches Completed: 150, Loss: 0.009, Test Accuracy: 99.247%\n",
            "Starting Epoch: 20...\n",
            "Epoch: 20, Mini-Batches Completed: 50, Loss: 0.002, Test Accuracy: 99.348%\n",
            "Epoch: 20, Mini-Batches Completed: 100, Loss: 0.004, Test Accuracy: 99.365%\n",
            "Epoch: 20, Mini-Batches Completed: 150, Loss: 0.005, Test Accuracy: 99.314%\n",
            "Starting Epoch: 21...\n",
            "Epoch: 21, Mini-Batches Completed: 50, Loss: 0.002, Test Accuracy: 99.130%\n",
            "Epoch: 21, Mini-Batches Completed: 100, Loss: 0.005, Test Accuracy: 99.164%\n",
            "Epoch: 21, Mini-Batches Completed: 150, Loss: 0.008, Test Accuracy: 99.214%\n",
            "Starting Epoch: 22...\n",
            "Epoch: 22, Mini-Batches Completed: 50, Loss: 0.001, Test Accuracy: 99.264%\n",
            "Epoch: 22, Mini-Batches Completed: 100, Loss: 0.003, Test Accuracy: 99.181%\n",
            "Epoch: 22, Mini-Batches Completed: 150, Loss: 0.005, Test Accuracy: 99.247%\n",
            "Starting Epoch: 23...\n",
            "Epoch: 23, Mini-Batches Completed: 50, Loss: 0.004, Test Accuracy: 99.147%\n",
            "Epoch: 23, Mini-Batches Completed: 100, Loss: 0.007, Test Accuracy: 99.214%\n",
            "Epoch: 23, Mini-Batches Completed: 150, Loss: 0.011, Test Accuracy: 99.164%\n",
            "Starting Epoch: 24...\n",
            "Epoch: 24, Mini-Batches Completed: 50, Loss: 0.004, Test Accuracy: 99.164%\n",
            "Epoch: 24, Mini-Batches Completed: 100, Loss: 0.007, Test Accuracy: 99.047%\n",
            "Epoch: 24, Mini-Batches Completed: 150, Loss: 0.010, Test Accuracy: 99.247%\n",
            "Starting Epoch: 25...\n",
            "Epoch: 25, Mini-Batches Completed: 50, Loss: 0.005, Test Accuracy: 99.298%\n",
            "Epoch: 25, Mini-Batches Completed: 100, Loss: 0.008, Test Accuracy: 99.298%\n",
            "Epoch: 25, Mini-Batches Completed: 150, Loss: 0.009, Test Accuracy: 99.197%\n",
            "Starting Epoch: 26...\n",
            "Epoch: 26, Mini-Batches Completed: 50, Loss: 0.000, Test Accuracy: 99.281%\n",
            "Epoch: 26, Mini-Batches Completed: 100, Loss: 0.001, Test Accuracy: 99.264%\n",
            "Epoch: 26, Mini-Batches Completed: 150, Loss: 0.002, Test Accuracy: 99.281%\n",
            "Starting Epoch: 27...\n",
            "Epoch: 27, Mini-Batches Completed: 50, Loss: 0.001, Test Accuracy: 99.331%\n",
            "Epoch: 27, Mini-Batches Completed: 100, Loss: 0.001, Test Accuracy: 99.331%\n",
            "Epoch: 27, Mini-Batches Completed: 150, Loss: 0.003, Test Accuracy: 99.298%\n",
            "Starting Epoch: 28...\n",
            "Epoch: 28, Mini-Batches Completed: 50, Loss: 0.001, Test Accuracy: 99.298%\n",
            "Epoch: 28, Mini-Batches Completed: 100, Loss: 0.001, Test Accuracy: 99.314%\n",
            "Epoch: 28, Mini-Batches Completed: 150, Loss: 0.001, Test Accuracy: 99.314%\n",
            "Starting Epoch: 29...\n",
            "Epoch: 29, Mini-Batches Completed: 50, Loss: 0.000, Test Accuracy: 99.331%\n",
            "Epoch: 29, Mini-Batches Completed: 100, Loss: 0.000, Test Accuracy: 99.331%\n",
            "Epoch: 29, Mini-Batches Completed: 150, Loss: 0.000, Test Accuracy: 99.348%\n",
            "Starting Epoch: 30...\n",
            "Epoch: 30, Mini-Batches Completed: 50, Loss: 0.000, Test Accuracy: 99.365%\n",
            "Epoch: 30, Mini-Batches Completed: 100, Loss: 0.000, Test Accuracy: 99.348%\n",
            "Epoch: 30, Mini-Batches Completed: 150, Loss: 0.000, Test Accuracy: 99.365%\n",
            "Training Completed.\n"
          ]
        }
      ]
    },
    {
      "cell_type": "code",
      "source": [
        "PATH = './cnn_net.pth'\n",
        "torch.save(net.state_dict(), PATH)"
      ],
      "metadata": {
        "id": "MSwjqM7siLpC"
      },
      "execution_count": 50,
      "outputs": []
    },
    {
      "cell_type": "code",
      "source": [
        "net = Net()\n",
        "net.to(device)\n",
        "net.load_state_dict(torch.load(PATH))"
      ],
      "metadata": {
        "colab": {
          "base_uri": "https://localhost:8080/",
          "height": 0
        },
        "id": "eXdWyJyoiLmN",
        "outputId": "4e6a678c-2ff9-4208-a954-e8c37023d078"
      },
      "execution_count": 51,
      "outputs": [
        {
          "output_type": "execute_result",
          "data": {
            "text/plain": [
              "<All keys matched successfully>"
            ]
          },
          "metadata": {},
          "execution_count": 51
        }
      ]
    },
    {
      "cell_type": "code",
      "source": [
        "correct = 0   # Initialize count of correct predictions to 0\n",
        "total = 0     # Initialize count of total predictions to 0\n",
        "\n",
        "with torch.no_grad():   # Disable gradient computation for efficiency\n",
        "    for data in test_loader:   # Loop through the test dataset\n",
        "        images, labels = data   # Get images and labels from the test dataset\n",
        "        images = images.to(device)   # Move images to the specified device (e.g., GPU or CPU)\n",
        "        labels = labels.to(device)   # Move labels to the specified device\n",
        "        outputs = net(images.float())   # Forward pass to get predicted outputs from the model\n",
        "        _, predicted = torch.max(outputs.data, 1)   # Get predicted labels with maximum probability\n",
        "        label_size = labels.size(0)   # Get the number of labels in the current batch\n",
        "        total += label_size   # Update total count of predictions\n",
        "        correct += (predicted == labels).sum().item()   # Update count of correct predictions by summing up correct predictions in the current batch\n",
        "\n",
        "accuracy = 100 * correct / total   # Calculate accuracy by dividing correct predictions by total predictions and multiplying by 100 to get percentage\n",
        "\n",
        "print(f'Accuracy of the network on test images: {accuracy:.3}%')"
      ],
      "metadata": {
        "colab": {
          "base_uri": "https://localhost:8080/",
          "height": 0
        },
        "id": "a9ro0VzpiLjI",
        "outputId": "823e25a7-73ab-48f7-aa4f-21672976dcec"
      },
      "execution_count": 52,
      "outputs": [
        {
          "output_type": "stream",
          "name": "stdout",
          "text": [
            "Accuracy of the network on test images: 99.3%\n"
          ]
        }
      ]
    },
    {
      "cell_type": "code",
      "source": [
        "net.eval()   # Set the model to evaluation mode, which disables dropout and batch normalization\n",
        "\n",
        "num_images = 7  # Number of images to visualize\n",
        "\n",
        "with torch.no_grad():   # Disable gradient computation for efficiency\n",
        "    for data in test_loader:   # Loop through the test dataset\n",
        "        images, labels = data   # Get images and labels from the test dataset\n",
        "        images = images.to(device)   # Move images to the specified device (e.g., GPU or CPU)\n",
        "        labels = labels.to(device)   # Move labels to the specified device\n",
        "\n",
        "        outputs = net(images.float())   # Forward pass to get predicted outputs from the model\n",
        "        predictions = torch.argmax(outputs, dim=1)   # Get predicted labels with maximum probability\n",
        "\n",
        "        for i in range(data[0].shape[0]):   # Loop through the images in the current batch\n",
        "            pred = predictions[i].item()   # Get the predicted label for the current image\n",
        "            label = labels[i]   # Get the actual label for the current image\n",
        "            if(num_images > 0):   # Check if the number of images to visualize is greater than 0\n",
        "                print(f'Actual Label: {pred}, Predicted Label: {label}')   # Print the actual and predicted label for the current image\n",
        "                img = np.reshape(images[i].cpu().numpy(),[1,28,28])   # Convert the image tensor to a NumPy array and reshape it to [1, 28, 28] size\n",
        "                visualize_image(img)   # Visualize the image using a custom function (e.g., visualize_image)\n",
        "                num_images -= 1   # Decrement the number of images to visualize by 1\n"
      ],
      "metadata": {
        "colab": {
          "base_uri": "https://localhost:8080/",
          "height": 2862
        },
        "id": "D6Twszu2iLgT",
        "outputId": "ced754f7-4320-42e1-c5ed-92f592a3a4dd"
      },
      "execution_count": 53,
      "outputs": [
        {
          "output_type": "stream",
          "name": "stdout",
          "text": [
            "Actual Label: 5, Predicted Label: 5\n"
          ]
        },
        {
          "output_type": "display_data",
          "data": {
            "text/plain": [
              "<Figure size 640x480 with 1 Axes>"
            ],
            "image/png": "[encoded data removed]"
          },
          "metadata": {}
        },
        {
          "output_type": "stream",
          "name": "stdout",
          "text": [
            "Actual Label: 3, Predicted Label: 3\n"
          ]
        },
        {
          "output_type": "display_data",
          "data": {
            "text/plain": [
              "<Figure size 640x480 with 1 Axes>"
            ],
            "image/png": "[encoded data removed]"
          },
          "metadata": {}
        },
        {
          "output_type": "stream",
          "name": "stdout",
          "text": [
            "Actual Label: 6, Predicted Label: 6\n"
          ]
        },
        {
          "output_type": "display_data",
          "data": {
            "text/plain": [
              "<Figure size 640x480 with 1 Axes>"
            ],
            "image/png": "[encoded data removed]"
          },
          "metadata": {}
        },
        {
          "output_type": "stream",
          "name": "stdout",
          "text": [
            "Actual Label: 2, Predicted Label: 2\n"
          ]
        },
        {
          "output_type": "display_data",
          "data": {
            "text/plain": [
              "<Figure size 640x480 with 1 Axes>"
            ],
            "image/png": "[encoded data removed]"
          },
          "metadata": {}
        },
        {
          "output_type": "stream",
          "name": "stdout",
          "text": [
            "Actual Label: 3, Predicted Label: 3\n"
          ]
        },
        {
          "output_type": "display_data",
          "data": {
            "text/plain": [
              "<Figure size 640x480 with 1 Axes>"
            ],
            "image/png": "[encoded data removed]"
          },
          "metadata": {}
        },
        {
          "output_type": "stream",
          "name": "stdout",
          "text": [
            "Actual Label: 6, Predicted Label: 6\n"
          ]
        },
        {
          "output_type": "display_data",
          "data": {
            "text/plain": [
              "<Figure size 640x480 with 1 Axes>"
            ],
            "image/png": "[encoded data removed]"
          },
          "metadata": {}
        },
        {
          "output_type": "stream",
          "name": "stdout",
          "text": [
            "Actual Label: 5, Predicted Label: 5\n"
          ]
        },
        {
          "output_type": "display_data",
          "data": {
            "text/plain": [
              "<Figure size 640x480 with 1 Axes>"
            ],
            "image/png": "[encoded data removed]"
          },
          "metadata": {}
        }
      ]
    },
    {
      "cell_type": "code",
      "source": [
        "import matplotlib.pyplot as plt\n",
        "\n",
        "# Plotting the training loss\n",
        "plt.figure(figsize=(12, 6))\n",
        "plt.plot(epoch_log, loss_log, label='Training Loss')\n",
        "plt.xlabel('Epochs')\n",
        "plt.ylabel('Loss')\n",
        "plt.title('Training Loss Over Time')\n",
        "plt.legend()\n",
        "plt.show()\n",
        "\n",
        "# Plotting the training accuracy\n",
        "plt.figure(figsize=(12, 6))\n",
        "plt.plot(epoch_log, accuracy_log, label='Training Accuracy')\n",
        "plt.xlabel('Epochs')\n",
        "plt.ylabel('Accuracy')\n",
        "plt.title('Training Accuracy Over Time')\n",
        "plt.legend()\n",
        "plt.show()"
      ],
      "metadata": {
        "colab": {
          "base_uri": "https://localhost:8080/",
          "height": 1004
        },
        "id": "9A7XJYVGiLdL",
        "outputId": "cb602c22-fa7d-42cb-bed6-75b7f24a5311"
      },
      "execution_count": 54,
      "outputs": [
        {
          "output_type": "display_data",
          "data": {
            "text/plain": [
              "<Figure size 1200x600 with 1 Axes>"
            ],
            "image/png": "[encoded data removed]"
          },
          "metadata": {}
        },
        {
          "output_type": "display_data",
          "data": {
            "text/plain": [
              "<Figure size 1200x600 with 1 Axes>"
            ],
            "image/png": "[encoded data removed]"
          },
          "metadata": {}
        }
      ]
    },
    {
      "cell_type": "code",
      "source": [
        "from sklearn.metrics import confusion_matrix\n",
        "from sklearn.metrics import classification_report\n",
        "import seaborn as sns\n",
        "pred_list = torch.zeros(0, dtype=torch.long, device='cpu')   # Create an empty tensor to store predicted labels with dtype long and device CPU\n",
        "label_list = torch.zeros(0, dtype=torch.long, device='cpu')   # Create an empty tensor to store actual labels with dtype long and device CPU\n",
        "\n",
        "with torch.no_grad():   # Turn off gradient computation during inference\n",
        "    for i, (inputs, classes) in enumerate(test_loader):   # Iterate over the test data loader\n",
        "        inputs = inputs.to(device)   # Move inputs to the specified device (e.g., CPU or GPU)\n",
        "        classes = classes.to(device)   # Move actual labels to the specified device\n",
        "        outputs = net(inputs.float())   # Pass inputs through the network to get predicted outputs\n",
        "        _, preds = torch.max(outputs, 1)   # Get the predicted labels by finding the indices of maximum values along the second dimension (class probabilities)\n",
        "\n",
        "        pred_list = torch.cat([pred_list, preds.view(-1).cpu()])   # Concatenate predicted labels to the pred_list tensor, reshaping to 1D and moving to CPU\n",
        "        label_list = torch.cat([label_list, classes.view(-1).cpu()])   # Concatenate actual labels to the label_list tensor, reshaping to 1D and moving to CPU"
      ],
      "metadata": {
        "id": "2U-kDQ4oiLaz"
      },
      "execution_count": 55,
      "outputs": []
    },
    {
      "cell_type": "code",
      "source": [
        "conf_mat = confusion_matrix(label_list.numpy(), pred_list.numpy())   # Compute the confusion matrix using predicted and actual labels converted to NumPy arrays\n",
        "class_names = (0, 1, 2, 3, 4, 5, 6, 7, 8, 9)   # Define the class names as a tuple of integers from 0 to 9\n",
        "dataframe = pd.DataFrame(conf_mat, index=class_names, columns=class_names)   # Create a DataFrame from the confusion matrix, with class names as row and column indices\n",
        "#plotting confusion matrix\n",
        "plt.figure(figsize=(8, 6))\n",
        "sns.heatmap(dataframe, annot=True, cbar=None,cmap=\"spring\",fmt=\"d\")\n",
        "\n",
        "plt.title(\"Confusion Matrix\"), plt.tight_layout()\n",
        "\n",
        "plt.ylabel(\"True Class\"),\n",
        "plt.xlabel(\"Predicted Class\")\n",
        "plt.show()"
      ],
      "metadata": {
        "colab": {
          "base_uri": "https://localhost:8080/",
          "height": 626
        },
        "id": "NoAdwwExiLXi",
        "outputId": "548e2af8-d6d8-4cce-d3a6-554ffaa979ba"
      },
      "execution_count": 56,
      "outputs": [
        {
          "output_type": "display_data",
          "data": {
            "text/plain": [
              "<Figure size 800x600 with 1 Axes>"
            ],
            "image/png": "[encoded data removed]"
          },
          "metadata": {}
        }
      ]
    },
    {
      "cell_type": "code",
      "source": [
        "from sklearn.metrics import precision_score, accuracy_score, f1_score, recall_score\n",
        "\n",
        "# Compute precision, accuracy, F1 score, and recall\n",
        "precision = precision_score(label_list.numpy(), pred_list.numpy(), average='weighted')\n",
        "accuracy = accuracy_score(label_list.numpy(), pred_list.numpy())\n",
        "f1 = f1_score(label_list.numpy(), pred_list.numpy(), average='weighted')\n",
        "recall = recall_score(label_list.numpy(), pred_list.numpy(), average='weighted')\n",
        "\n",
        "# Print the metrics\n",
        "print(f'Precision: {precision:.3f}')\n",
        "print(f'Accuracy: {accuracy:.3f}')\n",
        "print(f'F1 Score: {f1:.3f}')\n",
        "print(f'Recall: {recall:.3f}')\n"
      ],
      "metadata": {
        "colab": {
          "base_uri": "https://localhost:8080/",
          "height": 0
        },
        "id": "ewzOmGDZiLU8",
        "outputId": "eff02b78-02e5-4bee-ba61-d653a6a88b7d"
      },
      "execution_count": 57,
      "outputs": [
        {
          "output_type": "stream",
          "name": "stdout",
          "text": [
            "Precision: 0.993\n",
            "Accuracy: 0.993\n",
            "F1 Score: 0.993\n",
            "Recall: 0.993\n"
          ]
        }
      ]
    },
    {
      "cell_type": "code",
      "source": [
        "import matplotlib.pyplot as plt\n",
        "import numpy as np\n",
        "\n",
        "# ... (your existing code)\n",
        "\n",
        "# Compute precision, accuracy, F1 score, and recall\n",
        "precision = precision_score(label_list.numpy(), pred_list.numpy(), average='weighted')\n",
        "accuracy = accuracy_score(label_list.numpy(), pred_list.numpy())\n",
        "f1 = f1_score(label_list.numpy(), pred_list.numpy(), average='weighted')\n",
        "recall = recall_score(label_list.numpy(), pred_list.numpy(), average='weighted')\n",
        "\n",
        "# Plot the metrics\n",
        "metrics_names = ['Precision', 'Accuracy', 'F1 Score', 'Recall']\n",
        "metrics_values = [precision, accuracy, f1, recall]\n",
        "\n",
        "plt.figure(figsize=(10, 6))\n",
        "plt.bar(metrics_names, metrics_values, color=['blue', 'green', 'orange', 'red'])\n",
        "plt.title('Model Evaluation Metrics')\n",
        "plt.ylabel('Score')\n",
        "plt.ylim(0.9, 1.0)  # Adjust the y-axis limits based on your metric values\n",
        "plt.show()\n"
      ],
      "metadata": {
        "colab": {
          "base_uri": "https://localhost:8080/",
          "height": 545
        },
        "id": "Bvx1m2IciLR-",
        "outputId": "460c0842-8b0c-4d02-e12d-10c39c036f9b"
      },
      "execution_count": 58,
      "outputs": [
        {
          "output_type": "display_data",
          "data": {
            "text/plain": [
              "<Figure size 1000x600 with 1 Axes>"
            ],
            "image/png": "[encoded data removed]"
          },
          "metadata": {}
        }
      ]
    },
    {
      "cell_type": "code",
      "source": [
        "import torch.nn.functional as F\n",
        "\n",
        "class Net(nn.Module):\n",
        "    def __init__(self, activation_function='relu'):\n",
        "        super(Net, self).__init__()\n",
        "        self.conv1 = nn.Conv2d(1, 32, 3)\n",
        "        self.conv2 = nn.Conv2d(32, 64, 3)\n",
        "        self.pool = nn.MaxPool2d(2, 2)\n",
        "        self.fc1 = nn.Linear(64 * 12 * 12, 128)\n",
        "        self.fc2 = nn.Linear(128, 10)\n",
        "\n",
        "        # Choose activation function based on the provided parameter\n",
        "        if activation_function == 'relu':\n",
        "            self.activation = F.relu\n",
        "        elif activation_function == 'leaky_relu':\n",
        "            self.activation = F.leaky_relu\n",
        "        elif activation_function == 'elu':\n",
        "            self.activation = F.elu\n",
        "        elif activation_function == 'sigmoid':\n",
        "            self.activation = torch.sigmoid\n",
        "        elif activation_function == 'tanh':\n",
        "            self.activation = torch.tanh\n",
        "        elif activation_function == 'linear':\n",
        "            self.activation = lambda x: x  # Linear activation, no activation function\n",
        "        else:\n",
        "            raise ValueError(f\"Unsupported activation function: {activation_function}\")\n",
        "\n",
        "    def forward(self, x):\n",
        "        x = self.activation(self.conv1(x))\n",
        "        x = self.pool(self.activation(self.conv2(x)))\n",
        "        x = x.view(-1, 64 * 12 * 12)\n",
        "        x = self.activation(self.fc1(x))\n",
        "        x = self.fc2(x)\n",
        "        return x\n"
      ],
      "metadata": {
        "id": "hQAV48KfiLEu"
      },
      "execution_count": 59,
      "outputs": []
    },
    {
      "cell_type": "code",
      "source": [
        "# Example with ReLU activation function\n",
        "net_relu = Net(activation_function='relu')\n",
        "\n",
        "# Example with Sigmoid activation function\n",
        "net_sigmoid = Net(activation_function='sigmoid')\n"
      ],
      "metadata": {
        "id": "onkxMeu6iLBP"
      },
      "execution_count": 60,
      "outputs": []
    },
    {
      "cell_type": "code",
      "source": [
        "import torch.optim as optim\n",
        "\n",
        "# List of activation functions to try\n",
        "activation_functions = ['relu', 'leaky_relu', 'elu', 'sigmoid', 'tanh', 'linear']\n",
        "\n",
        "# Number of epochs\n",
        "num_epochs = 10\n",
        "\n",
        "# Create lists to store results\n",
        "results = []\n",
        "\n",
        "for activation_function in activation_functions:\n",
        "    # Create an instance of the neural network model with the specified activation function\n",
        "    net = Net(activation_function=activation_function)\n",
        "    net.to(device)\n",
        "\n",
        "    # Choose optimizer and criterion\n",
        "    optimizer = optim.Adam(net.parameters(), lr=0.001)\n",
        "    criterion = nn.CrossEntropyLoss()\n",
        "\n",
        "    # Create lists to store epoch number, loss, and accuracy for each epoch\n",
        "    epoch_log = []\n",
        "    loss_log = []\n",
        "    accuracy_log = []\n",
        "\n",
        "    for epoch in range(num_epochs):\n",
        "        print(f'Starting Epoch {epoch + 1} with {activation_function} activation...')\n",
        "\n",
        "        running_loss = 0.0\n",
        "        for i, data in enumerate(train_loader, 0):\n",
        "            inputs, labels = data\n",
        "            inputs = inputs.to(device)\n",
        "            labels = labels.to(device)\n",
        "\n",
        "            optimizer.zero_grad()\n",
        "            outputs = net(inputs.float())\n",
        "            loss = criterion(outputs, labels)\n",
        "            loss.backward()\n",
        "            optimizer.step()\n",
        "\n",
        "            running_loss += loss.item()\n",
        "\n",
        "            if i % 50 == 49:\n",
        "                correct = 0\n",
        "                total = 0\n",
        "\n",
        "                with torch.no_grad():\n",
        "                    for data in test_loader:\n",
        "                        images, labels = data\n",
        "                        images = images.to(device)\n",
        "                        labels = labels.to(device)\n",
        "                        outputs = net(images.float())\n",
        "\n",
        "                        _, predicted = torch.max(outputs.data, dim=1)\n",
        "                        total += labels.size(0)\n",
        "                        correct += (predicted == labels).sum().item()\n",
        "\n",
        "                    accuracy = 100 * correct / total\n",
        "                    actual_loss = running_loss / 50\n",
        "                    epoch_num = epoch + 1\n",
        "\n",
        "                    epoch_log.append(epoch_num)\n",
        "                    loss_log.append(actual_loss)\n",
        "                    accuracy_log.append(accuracy)\n",
        "\n",
        "    results.append({\n",
        "        'activation_function': activation_function,\n",
        "        'epochs': epoch_log,\n",
        "        'loss': loss_log,\n",
        "        'accuracy': accuracy_log\n",
        "    })\n",
        "\n",
        "# Print or analyze the results as needed\n",
        "for result in results:\n",
        "    print(f\"Activation Function: {result['activation_function']}\")\n",
        "    print(f\"Epochs: {result['epochs']}\")\n",
        "    print(f\"Final Loss: {result['loss'][-1]:.3f}\")\n",
        "    print(f\"Final Accuracy: {result['accuracy'][-1]:.3f}%\")\n",
        "    print(\"\\n\")\n"
      ],
      "metadata": {
        "colab": {
          "base_uri": "https://localhost:8080/",
          "height": 0
        },
        "id": "v1vvnWmOiK-P",
        "outputId": "29f2cf06-f6aa-46cc-c31e-9c76ebf2afba"
      },
      "execution_count": 61,
      "outputs": [
        {
          "output_type": "stream",
          "name": "stdout",
          "text": [
            "Starting Epoch 1 with relu activation...\n",
            "Starting Epoch 2 with relu activation...\n",
            "Starting Epoch 3 with relu activation...\n",
            "Starting Epoch 4 with relu activation...\n",
            "Starting Epoch 5 with relu activation...\n",
            "Starting Epoch 6 with relu activation...\n",
            "Starting Epoch 7 with relu activation...\n",
            "Starting Epoch 8 with relu activation...\n",
            "Starting Epoch 9 with relu activation...\n",
            "Starting Epoch 10 with relu activation...\n",
            "Starting Epoch 1 with leaky_relu activation...\n",
            "Starting Epoch 2 with leaky_relu activation...\n",
            "Starting Epoch 3 with leaky_relu activation...\n",
            "Starting Epoch 4 with leaky_relu activation...\n",
            "Starting Epoch 5 with leaky_relu activation...\n",
            "Starting Epoch 6 with leaky_relu activation...\n",
            "Starting Epoch 7 with leaky_relu activation...\n",
            "Starting Epoch 8 with leaky_relu activation...\n",
            "Starting Epoch 9 with leaky_relu activation...\n",
            "Starting Epoch 10 with leaky_relu activation...\n",
            "Starting Epoch 1 with elu activation...\n",
            "Starting Epoch 2 with elu activation...\n",
            "Starting Epoch 3 with elu activation...\n",
            "Starting Epoch 4 with elu activation...\n",
            "Starting Epoch 5 with elu activation...\n",
            "Starting Epoch 6 with elu activation...\n",
            "Starting Epoch 7 with elu activation...\n",
            "Starting Epoch 8 with elu activation...\n",
            "Starting Epoch 9 with elu activation...\n",
            "Starting Epoch 10 with elu activation...\n",
            "Starting Epoch 1 with sigmoid activation...\n",
            "Starting Epoch 2 with sigmoid activation...\n",
            "Starting Epoch 3 with sigmoid activation...\n",
            "Starting Epoch 4 with sigmoid activation...\n",
            "Starting Epoch 5 with sigmoid activation...\n",
            "Starting Epoch 6 with sigmoid activation...\n",
            "Starting Epoch 7 with sigmoid activation...\n",
            "Starting Epoch 8 with sigmoid activation...\n",
            "Starting Epoch 9 with sigmoid activation...\n",
            "Starting Epoch 10 with sigmoid activation...\n",
            "Starting Epoch 1 with tanh activation...\n",
            "Starting Epoch 2 with tanh activation...\n",
            "Starting Epoch 3 with tanh activation...\n",
            "Starting Epoch 4 with tanh activation...\n",
            "Starting Epoch 5 with tanh activation...\n",
            "Starting Epoch 6 with tanh activation...\n",
            "Starting Epoch 7 with tanh activation...\n",
            "Starting Epoch 8 with tanh activation...\n",
            "Starting Epoch 9 with tanh activation...\n",
            "Starting Epoch 10 with tanh activation...\n",
            "Starting Epoch 1 with linear activation...\n",
            "Starting Epoch 2 with linear activation...\n",
            "Starting Epoch 3 with linear activation...\n",
            "Starting Epoch 4 with linear activation...\n",
            "Starting Epoch 5 with linear activation...\n",
            "Starting Epoch 6 with linear activation...\n",
            "Starting Epoch 7 with linear activation...\n",
            "Starting Epoch 8 with linear activation...\n",
            "Starting Epoch 9 with linear activation...\n",
            "Starting Epoch 10 with linear activation...\n",
            "Activation Function: relu\n",
            "Epochs: [1, 1, 1, 2, 2, 2, 3, 3, 3, 4, 4, 4, 5, 5, 5, 6, 6, 6, 7, 7, 7, 8, 8, 8, 9, 9, 9, 10, 10, 10]\n",
            "Final Loss: 0.020\n",
            "Final Accuracy: 99.231%\n",
            "\n",
            "\n",
            "Activation Function: leaky_relu\n",
            "Epochs: [1, 1, 1, 2, 2, 2, 3, 3, 3, 4, 4, 4, 5, 5, 5, 6, 6, 6, 7, 7, 7, 8, 8, 8, 9, 9, 9, 10, 10, 10]\n",
            "Final Loss: 0.016\n",
            "Final Accuracy: 99.147%\n",
            "\n",
            "\n",
            "Activation Function: elu\n",
            "Epochs: [1, 1, 1, 2, 2, 2, 3, 3, 3, 4, 4, 4, 5, 5, 5, 6, 6, 6, 7, 7, 7, 8, 8, 8, 9, 9, 9, 10, 10, 10]\n",
            "Final Loss: 0.016\n",
            "Final Accuracy: 98.930%\n",
            "\n",
            "\n",
            "Activation Function: sigmoid\n",
            "Epochs: [1, 1, 1, 2, 2, 2, 3, 3, 3, 4, 4, 4, 5, 5, 5, 6, 6, 6, 7, 7, 7, 8, 8, 8, 9, 9, 9, 10, 10, 10]\n",
            "Final Loss: 0.174\n",
            "Final Accuracy: 97.793%\n",
            "\n",
            "\n",
            "Activation Function: tanh\n",
            "Epochs: [1, 1, 1, 2, 2, 2, 3, 3, 3, 4, 4, 4, 5, 5, 5, 6, 6, 6, 7, 7, 7, 8, 8, 8, 9, 9, 9, 10, 10, 10]\n",
            "Final Loss: 0.013\n",
            "Final Accuracy: 99.097%\n",
            "\n",
            "\n",
            "Activation Function: linear\n",
            "Epochs: [1, 1, 1, 2, 2, 2, 3, 3, 3, 4, 4, 4, 5, 5, 5, 6, 6, 6, 7, 7, 7, 8, 8, 8, 9, 9, 9, 10, 10, 10]\n",
            "Final Loss: 0.041\n",
            "Final Accuracy: 98.612%\n",
            "\n",
            "\n"
          ]
        }
      ]
    },
    {
      "cell_type": "code",
      "source": [
        "import matplotlib.pyplot as plt\n",
        "\n",
        "# Plotting accuracy for each activation function\n",
        "activation_labels = [result['activation_function'] for result in results]\n",
        "accuracy_values = [result['accuracy'][-1] for result in results]\n",
        "\n",
        "plt.figure(figsize=(10, 6))\n",
        "plt.bar(activation_labels, accuracy_values, color=['blue', 'orange', 'green', 'red', 'purple', 'brown'])\n",
        "plt.xlabel('Activation Functions')\n",
        "plt.ylabel('Final Accuracy (%)')\n",
        "plt.title('Accuracy for Different Activation Functions')\n",
        "plt.ylim(90, 100)  # Set y-axis limit for better visualization\n",
        "plt.show()\n"
      ],
      "metadata": {
        "colab": {
          "base_uri": "https://localhost:8080/",
          "height": 245
        },
        "id": "MVIPyViviK7D",
        "outputId": "e11d2fef-4bce-4454-ebbb-4539d49f3c47"
      },
      "execution_count": 1,
      "outputs": [
        {
          "output_type": "error",
          "ename": "NameError",
          "evalue": "name 'results' is not defined",
          "traceback": [
            "\u001b[0;31m---------------------------------------------------------------------------\u001b[0m",
            "\u001b[0;31mNameError\u001b[0m                                 Traceback (most recent call last)",
            "\u001b[0;32m<ipython-input-1-cce82b71e24f>\u001b[0m in \u001b[0;36m<cell line: 4>\u001b[0;34m()\u001b[0m\n\u001b[1;32m      2\u001b[0m \u001b[0;34m\u001b[0m\u001b[0m\n\u001b[1;32m      3\u001b[0m \u001b[0;31m# Plotting accuracy for each activation function\u001b[0m\u001b[0;34m\u001b[0m\u001b[0;34m\u001b[0m\u001b[0m\n\u001b[0;32m----> 4\u001b[0;31m \u001b[0mactivation_labels\u001b[0m \u001b[0;34m=\u001b[0m \u001b[0;34m[\u001b[0m\u001b[0mresult\u001b[0m\u001b[0;34m[\u001b[0m\u001b[0;34m'activation_function'\u001b[0m\u001b[0;34m]\u001b[0m \u001b[0;32mfor\u001b[0m \u001b[0mresult\u001b[0m \u001b[0;32min\u001b[0m \u001b[0mresults\u001b[0m\u001b[0;34m]\u001b[0m\u001b[0;34m\u001b[0m\u001b[0;34m\u001b[0m\u001b[0m\n\u001b[0m\u001b[1;32m      5\u001b[0m \u001b[0maccuracy_values\u001b[0m \u001b[0;34m=\u001b[0m \u001b[0;34m[\u001b[0m\u001b[0mresult\u001b[0m\u001b[0;34m[\u001b[0m\u001b[0;34m'accuracy'\u001b[0m\u001b[0;34m]\u001b[0m\u001b[0;34m[\u001b[0m\u001b[0;34m-\u001b[0m\u001b[0;36m1\u001b[0m\u001b[0;34m]\u001b[0m \u001b[0;32mfor\u001b[0m \u001b[0mresult\u001b[0m \u001b[0;32min\u001b[0m \u001b[0mresults\u001b[0m\u001b[0;34m]\u001b[0m\u001b[0;34m\u001b[0m\u001b[0;34m\u001b[0m\u001b[0m\n\u001b[1;32m      6\u001b[0m \u001b[0;34m\u001b[0m\u001b[0m\n",
            "\u001b[0;31mNameError\u001b[0m: name 'results' is not defined"
          ]
        }
      ]
    },
    {
      "cell_type": "code",
      "source": [],
      "metadata": {
        "id": "--q7E_CaiKtm"
      },
      "execution_count": null,
      "outputs": []
    },
    {
      "cell_type": "code",
      "source": [],
      "metadata": {
        "id": "vt7hYFToiKck"
      },
      "execution_count": null,
      "outputs": []
    }
  ]
}